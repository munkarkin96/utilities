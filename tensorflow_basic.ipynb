{
 "cells": [
  {
   "cell_type": "code",
   "execution_count": 1,
   "metadata": {},
   "outputs": [],
   "source": [
    "import tensorflow as tf\n",
    "import numpy as np"
   ]
  },
  {
   "cell_type": "code",
   "execution_count": 2,
   "metadata": {},
   "outputs": [],
   "source": [
    "def tf_reset():\n",
    "    try:\n",
    "        sess.close()\n",
    "    except:\n",
    "        pass\n",
    "    \n",
    "    tf.reset_default_graph()\n",
    "    \n",
    "    return tf.Session()\n",
    "    "
   ]
  },
  {
   "cell_type": "markdown",
   "metadata": {},
   "source": [
    "## Constants"
   ]
  },
  {
   "cell_type": "code",
   "execution_count": 3,
   "metadata": {},
   "outputs": [
    {
     "name": "stdout",
     "output_type": "stream",
     "text": [
      "c = 3.0\n"
     ]
    }
   ],
   "source": [
    "sess = tf_reset()\n",
    "\n",
    "a = tf.constant(1.0)\n",
    "b = tf.constant(2.0)\n",
    "\n",
    "c = a + b \n",
    "\n",
    "c_run = sess.run(c)\n",
    "\n",
    "print('c = {0}'.format(c_run))"
   ]
  },
  {
   "cell_type": "markdown",
   "metadata": {},
   "source": [
    "## Placeholders"
   ]
  },
  {
   "cell_type": "code",
   "execution_count": 5,
   "metadata": {},
   "outputs": [
    {
     "name": "stdout",
     "output_type": "stream",
     "text": [
      "Tensor(\"a_placeholder:0\", shape=(?,), dtype=float32)\n",
      "a shape: (?,)\n",
      "Tensor(\"b_placeholder:0\", shape=(?,), dtype=float32)\n",
      "b shape: (?,)\n",
      "c0 = [3.]\n",
      "c1 = [3. 6.]\n"
     ]
    }
   ],
   "source": [
    "sess = tf_reset()\n",
    "\n",
    "a = tf.placeholder(dtype = tf.float32, shape = [None], name ='a_placeholder')\n",
    "b = tf.placeholder(dtype = tf.float32, shape = [None], name ='b_placeholder')\n",
    "\n",
    "c = a + b \n",
    "\n",
    "c0_run = sess.run(c, feed_dict = {a: [1.0], b: [2.0]})\n",
    "c1_run = sess.run(c, feed_dict = {a: [1.0, 2.0], b: [2.0, 4.0]})\n",
    "\n",
    "print(a)\n",
    "print('a shape: {}'.format(a.get_shape()))\n",
    "print(b)\n",
    "print('b shape: {}'.format(b.get_shape()))\n",
    "print('c0 = {}'.format(c0_run))\n",
    "print('c1 = {}'.format(c1_run))"
   ]
  },
  {
   "cell_type": "code",
   "execution_count": 6,
   "metadata": {},
   "outputs": [
    {
     "name": "stdout",
     "output_type": "stream",
     "text": [
      "a: \n",
      "[[-1.]\n",
      " [-2.]\n",
      " [-3.]]\n",
      "b: \n",
      "[[1. 2. 3.]]\n"
     ]
    }
   ],
   "source": [
    "sess = tf_reset()\n",
    "\n",
    "a = tf.constant([[-1.], [-2.], [-3.]], dtype = tf.float32)\n",
    "b = tf.constant([[1., 2., 3.]], dtype = tf.float32)\n",
    "\n",
    "a_run, b_run = sess.run([a, b])\n",
    "print('a: \\n{}'.format(a_run))\n",
    "print('b: \\n{}'.format(b_run))\n"
   ]
  },
  {
   "cell_type": "code",
   "execution_count": 7,
   "metadata": {},
   "outputs": [
    {
     "name": "stdout",
     "output_type": "stream",
     "text": [
      "b: \n",
      "[[1. 2. 3.]]\n",
      "c0: \n",
      "[[2. 4. 6.]]\n",
      "c1: \n",
      "[[3. 5. 7.]]\n"
     ]
    }
   ],
   "source": [
    "c0 = b + b \n",
    "c1 = c0 + 1 \n",
    "\n",
    "c0_run, c1_run  = sess.run([c0, c1])\n",
    "\n",
    "print('b: \\n{}'.format(b_run))\n",
    "print('c0: \\n{}'.format(c0_run))\n",
    "print('c1: \\n{}'.format(c1_run))"
   ]
  },
  {
   "cell_type": "code",
   "execution_count": 8,
   "metadata": {},
   "outputs": [
    {
     "name": "stdout",
     "output_type": "stream",
     "text": [
      "b: \n",
      "[[1. 2. 3.]]\n",
      "c: \n",
      "2.0\n"
     ]
    }
   ],
   "source": [
    "c = tf.reduce_mean(b)\n",
    "\n",
    "c_run = sess.run(c)\n",
    "\n",
    "print('b: \\n{}'.format(b_run))\n",
    "print('c: \\n{}'.format(c_run))"
   ]
  },
  {
   "cell_type": "markdown",
   "metadata": {},
   "source": [
    "## Variables"
   ]
  },
  {
   "cell_type": "code",
   "execution_count": 14,
   "metadata": {},
   "outputs": [
    {
     "name": "stdout",
     "output_type": "stream",
     "text": [
      "b: [[1. 2. 3.]]\n",
      "\n"
     ]
    }
   ],
   "source": [
    "sess = tf_reset()\n",
    "\n",
    "b = tf.constant([[1., 2., 3.]], dtype = tf.float32)\n",
    "#sess = tf.Session()\n",
    "\n",
    "b_run = sess.run(b)\n",
    "print('b: {}\\n'.format(b_run))\n"
   ]
  },
  {
   "cell_type": "code",
   "execution_count": 15,
   "metadata": {},
   "outputs": [
    {
     "name": "stdout",
     "output_type": "stream",
     "text": [
      "<tf.Variable 'myvar:0' shape=(1, 3) dtype=float32_ref>\n"
     ]
    }
   ],
   "source": [
    "var_init_value = [[2.0, 4.0, 6.0]]\n",
    "var = tf.get_variable(name = 'myvar', shape = [1,3], dtype=tf.float32, initializer = tf.constant_initializer(var_init_value))\n",
    "\n",
    "print(var)"
   ]
  },
  {
   "cell_type": "code",
   "execution_count": 16,
   "metadata": {},
   "outputs": [
    {
     "name": "stdout",
     "output_type": "stream",
     "text": [
      "[<tf.Variable 'myvar:0' shape=(1, 3) dtype=float32_ref>]\n"
     ]
    }
   ],
   "source": [
    "# keeps track of all the variables you have created\n",
    "print(tf.global_variables())"
   ]
  },
  {
   "cell_type": "code",
   "execution_count": 18,
   "metadata": {},
   "outputs": [
    {
     "name": "stdout",
     "output_type": "stream",
     "text": [
      "Tensor(\"Const:0\", shape=(1, 3), dtype=float32)\n",
      "<tf.Variable 'myvar:0' shape=(1, 3) dtype=float32_ref>\n",
      "Tensor(\"add_1:0\", shape=(1, 3), dtype=float32)\n"
     ]
    }
   ],
   "source": [
    "c = b + var\n",
    "\n",
    "print(b)\n",
    "print(var)\n",
    "print(c)"
   ]
  },
  {
   "cell_type": "code",
   "execution_count": 20,
   "metadata": {},
   "outputs": [],
   "source": [
    "# initialize everything in the global variable list before you can perform as sort of operations and arithmetic \n",
    "\n",
    "init_op = tf.global_variables_initializer()\n",
    "sess.run(init_op)"
   ]
  },
  {
   "cell_type": "code",
   "execution_count": 21,
   "metadata": {},
   "outputs": [
    {
     "name": "stdout",
     "output_type": "stream",
     "text": [
      "b: [[1. 2. 3.]]\n",
      "\n",
      "var: [[2.0, 4.0, 6.0]]\n",
      "\n",
      "c: [[3. 6. 9.]]\n",
      "\n"
     ]
    }
   ],
   "source": [
    "c_run = sess.run(c)\n",
    "\n",
    "print('b: {}\\n'.format(b_run))\n",
    "print('var: {}\\n'.format(var_init_value))\n",
    "print('c: {}\\n'.format(c_run))\n"
   ]
  },
  {
   "cell_type": "markdown",
   "metadata": {},
   "source": [
    "## Neural Network for a Simple Regression Problem"
   ]
  },
  {
   "cell_type": "code",
   "execution_count": 25,
   "metadata": {},
   "outputs": [
    {
     "data": {
      "text/plain": [
       "<matplotlib.collections.PathCollection at 0x7f763479c128>"
      ]
     },
     "execution_count": 25,
     "metadata": {},
     "output_type": "execute_result"
    },
    {
     "data": {
      "image/png": "[encoded data removed]",
      "text/plain": [
       "<Figure size 432x288 with 1 Axes>"
      ]
     },
     "metadata": {
      "needs_background": "light"
     },
     "output_type": "display_data"
    }
   ],
   "source": [
    "import matplotlib.pyplot as plt \n",
    "\n",
    "inputs = np.linspace(-2*np.pi, 2*np.pi, 10000)[:, None]\n",
    "outputs = np.sin(inputs) + 0.05 * np.random.normal(size = [len(inputs), 1])\n",
    "\n",
    "plt.scatter(inputs[:, 0], outputs[:, 0], s=0.1, color='k', marker='o')"
   ]
  },
  {
   "cell_type": "code",
   "execution_count": 28,
   "metadata": {},
   "outputs": [],
   "source": [
    "sess = tf_reset()\n",
    "\n",
    "def create_model():\n",
    "    input_ph = tf.placeholder(dtype=tf.float32, shape = [None, 1])\n",
    "    output_ph = tf.placeholder(dtype=tf.float32, shape = [None, 1])\n",
    "    \n",
    "    W0 = tf.get_variable(name='W0', shape=[1, 20], initializer= tf.contrib.layers.variance_scaling_initializer())\n",
    "    W1 = tf.get_variable(name='W1', shape=[20, 20], initializer=tf.contrib.layers.variance_scaling_initializer())\n",
    "    W2 = tf.get_variable(name='W2', shape=[20, 1], initializer= tf.contrib.layers.variance_scaling_initializer())\n",
    "    \n",
    "    b0 = tf.get_variable(name='b0', shape=[20], initializer= tf.constant_initializer)\n",
    "    b1 = tf.get_variable(name='b1', shape=[20], initializer= tf.constant_initializer)\n",
    "    b2 = tf.get_variable(name='b2', shape=[1], initializer= tf.constant_initializer)\n",
    "    \n",
    "    weights = [W0, W1, W2]\n",
    "    biases = [b0, b1, b2]\n",
    "    \n",
    "    activations = [tf.nn.relu, tf.nn.relu, None]\n",
    "    \n",
    "    layer = input_ph\n",
    "    for W, b, activation in zip(weights, biases, activations):\n",
    "        layer = tf.matmul(layer, W) + b \n",
    "        \n",
    "        if activation is not None:\n",
    "            layer = activation(layer)\n",
    "    output_pred =layer \n",
    "    \n",
    "    return input_ph, output_ph, output_pred\n",
    " "
   ]
  },
  {
   "cell_type": "code",
   "execution_count": 29,
   "metadata": {},
   "outputs": [],
   "source": [
    "input_ph, output_ph, output_pred = create_model()\n",
    "\n",
    "mse = tf.reduce_mean(0.5 * tf.square(output_pred - output_ph))\n",
    "opt = tf.train.AdamOptimizer().minimize(mse)\n",
    "\n",
    "sess.run(tf.global_variables_initializer())\n",
    "\n",
    "saver = tf.train.Saver()"
   ]
  },
  {
   "cell_type": "code",
   "execution_count": 31,
   "metadata": {},
   "outputs": [
    {
     "name": "stdout",
     "output_type": "stream",
     "text": [
      "0000, mse: 1.313\n",
      "1000, mse: 0.063\n",
      "2000, mse: 0.065\n",
      "3000, mse: 0.055\n",
      "4000, mse: 0.061\n",
      "5000, mse: 0.060\n",
      "6000, mse: 0.028\n",
      "7000, mse: 0.033\n",
      "8000, mse: 0.008\n",
      "9000, mse: 0.005\n"
     ]
    }
   ],
   "source": [
    "batch_size = 32\n",
    "for training_step in range(10000):\n",
    "    indices = np.random.randint(low=0, high=len(inputs), size=batch_size)\n",
    "    input_batch = inputs[indices]\n",
    "    output_batch = outputs[indices]\n",
    "    \n",
    "    _, mse_run = sess.run([opt, mse], feed_dict ={input_ph: input_batch, \n",
    "                                                 output_ph: output_batch})\n",
    "    \n",
    "    if training_step % 1000 == 0:\n",
    "        print('{0:04d}, mse: {1:.3f}'.format(training_step, mse_run))\n",
    "        #saver.save(sess, '/tmp/model.ckpt')\n",
    "    "
   ]
  },
  {
   "cell_type": "code",
   "execution_count": 34,
   "metadata": {},
   "outputs": [
    {
     "data": {
      "text/plain": [
       "<matplotlib.collections.PathCollection at 0x7f76cf491780>"
      ]
     },
     "execution_count": 34,
     "metadata": {},
     "output_type": "execute_result"
    },
    {
     "data": {
      "image/png": "[encoded data removed]",
      "text/plain": [
       "<Figure size 432x288 with 1 Axes>"
      ]
     },
     "metadata": {
      "needs_background": "light"
     },
     "output_type": "display_data"
    }
   ],
   "source": [
    "## predictions \n",
    "\n",
    "#sess = tf_reset()\n",
    "#input_ph, output_ph, output_pred = create_model()\n",
    "\n",
    "#saver = tf.train.Saver()\n",
    "#saver.restore(sess, '/tmp/model.ckpt')\n",
    "\n",
    "output_pred_run = sess.run(output_pred, feed_dict={input_ph: inputs})\n",
    "\n",
    "plt.scatter(inputs[:, 0], outputs[:, 0], c='k', marker='o', s=0.1)\n",
    "plt.scatter(inputs[:, 0], output_pred_run[:, 0], c='r', marker='o', s=0.1)\n"
   ]
  },
  {
   "cell_type": "code",
   "execution_count": null,
   "metadata": {},
   "outputs": [],
   "source": []
  },
  {
   "cell_type": "code",
   "execution_count": null,
   "metadata": {},
   "outputs": [],
   "source": []
  },
  {
   "cell_type": "code",
   "execution_count": null,
   "metadata": {},
   "outputs": [],
   "source": []
  }
 ],
 "metadata": {
  "kernelspec": {
   "display_name": "Python 3",
   "language": "python",
   "name": "python3"
  },
  "language_info": {
   "codemirror_mode": {
    "name": "ipython",
    "version": 3
   },
   "file_extension": ".py",
   "mimetype": "text/x-python",
   "name": "python",
   "nbconvert_exporter": "python",
   "pygments_lexer": "ipython3",
   "version": "3.5.2"
  }
 },
 "nbformat": 4,
 "nbformat_minor": 2
}
