{
 "cells": [
  {
   "cell_type": "code",
   "execution_count": 3,
   "metadata": {},
   "outputs": [],
   "source": [
    "'''Build a dataset from the MarketplaceAI Production or test database'''\n",
    "# encoding=utf8\n",
    "import pandas as pd\n",
    "import numpy as np\n",
    "import pymongo\n",
    "from bson.objectid import ObjectId\n",
    "from datetime import datetime\n",
    "import time\n",
    "import csv\n"
   ]
  },
  {
   "cell_type": "code",
   "execution_count": 2,
   "metadata": {},
   "outputs": [
    {
     "name": "stdout",
     "output_type": "stream",
     "text": [
      "Collecting pymongo\n",
      "\u001b[?25l  Downloading https://files.pythonhosted.org/packages/6e/6a/ededed811c0b19edb1fd6e381baefc8fef4e2bddc452b43e0bc56bf56e79/pymongo-3.8.0-cp35-cp35m-manylinux1_x86_64.whl (415kB)\n",
      "\u001b[K     |████████████████████████████████| 419kB 8.7MB/s eta 0:00:01\n",
      "\u001b[?25hInstalling collected packages: pymongo\n",
      "Successfully installed pymongo-3.8.0\n"
     ]
    }
   ],
   "source": [
    "# !pip install pymongo "
   ]
  },
  {
   "cell_type": "code",
   "execution_count": 18,
   "metadata": {},
   "outputs": [],
   "source": [
    "def open_db(ip='localhost', port=27017):\n",
    "    '''opens a mongodb client and\n",
    "    returns the database merchants collection'''\n",
    "    client = pymongo.MongoClient(ip, port, \n",
    "                                 username ='mktpl_user', \n",
    "                                 password ='ozvw0JV2ChW9Mu29',\n",
    "                                authSource ='mktpl_db',\n",
    "                                authMechanism = 'SCRAM-SHA-1')\n",
    "    \n",
    "    return client.mktpl_db.listings_db\n",
    "\n",
    "def item_to_dict(item):\n",
    "    '''Item found into data dictionary'''\n",
    "    tags = item['processedData'].get('prod_tags_txt', '')\n",
    "    tag = tags.split(',')[-1]\n",
    "\n",
    "    # get the category\n",
    "    category = item.get('alert_category', ['LEGIT'])\n",
    "    if len(category) == 0:\n",
    "        category = ['LEGIT']\n",
    "\n",
    "    # Transform seller join date into a datetime\n",
    "    #seller_join_date = item['processedData'].get('seller_join_date', None),\n",
    "    #seller_jdate = datetime.strptime(seller_join_date[0],'%Y-%m-%d %H:%M:%S')\n",
    "    \n",
    "    # Identify customer\n",
    "    customer = item['customer']\n",
    "    if customer == ObjectId('58b65bb33f6f676a2b33fdd2'):\n",
    "        customer = '11street'\n",
    "    else:\n",
    "        customer = '11street_poc'\n",
    "\n",
    "    data = {'_id': item['_id'],\n",
    "            'prod_id': item['processedData'].get('prod_id', ''),\n",
    "            'prod_name_txt': item['processedData'].get('prod_name_txt', ''),\n",
    "            'prod_price': float(item['processedData'].get('prod_price',\n",
    "                                                          np.NaN)),\n",
    "            'prod_price_currency': item['processedData'].get('prod_price_currency',\n",
    "                                                             None),\n",
    "            'prod_tags_txt': tags,\n",
    "            'tag': tag,\n",
    "            'prod_ship_loc': item['processedData'].get('prod_ship_loc', None),\n",
    "            'seller_id': item['processedData'].get('seller_id', ''),\n",
    "            'seller_email': item['processedData'].get('seller_email', None),\n",
    "            #'seller_join_date': seller_jdate,\n",
    "            'seller_loc_coarse': item['processedData'].get('seller_loc_coarse',\n",
    "                                                           None),\n",
    "            'seller_join_ipv4': item['processedData'].get('seller_join_ipv4',\n",
    "                                                          None),\n",
    "            'seller_list_ipv4': item['processedData'].get('seller_list_ipv4',\n",
    "                                                          None),\n",
    "            'created_datetime': item['created_datetime'],\n",
    "            'modified_datetime': item.get('modified_datetime', None),\n",
    "            'sent_datetime': item.get('sent_datetime', None),\n",
    "            'category': category[0],\n",
    "            'customer': customer\n",
    "            }\n",
    "    return data\n"
   ]
  },
  {
   "cell_type": "code",
   "execution_count": 22,
   "metadata": {},
   "outputs": [
    {
     "name": "stdout",
     "output_type": "stream",
     "text": [
      "0 0.027071714401245117\n"
     ]
    }
   ],
   "source": [
    "import dateutil \n",
    "\n",
    "# Open the db connection\n",
    "# listings_db = open_db('52.221.160.141')\n",
    "listings_db = open_db('10.8.1.208')\n",
    "\n",
    "# Save the results to a csv file\n",
    "path = 'fraudwall/listing_1M.csv'\n",
    "\n",
    "# query the database\n",
    "# Select where customer is either\n",
    "# '11street', or '11street_poc'\n",
    "cursor = listings_db.find(\n",
    "    {\n",
    "        \"customer\": ObjectId('58b65bb33f6f676a2b33fdd2'),\n",
    "        \"is_false_positive\": None, # {\"$ne\": None}\n",
    "        \"alert_category\": [], # {\"$ne\": []}\n",
    "        \"sent_datetime\": {\"$gte\": dateutil.parser.parse('2016-01-01')}, # gte = gtreater than equals to \n",
    "        \n",
    "                             #ObjectId('57fc78f6632dd164144c022a')]}\n",
    "    }).sort(\"_id\", -1).limit(10)\n",
    "\n",
    "# Column names in csv file\n",
    "columns = ['_id', 'prod_id',\n",
    "           'prod_name_txt', 'prod_price', 'prod_price_currency',\n",
    "           'prod_tags_txt', 'tag', 'prod_ship_loc',\n",
    "           'seller_id', 'seller_email',\n",
    "           'seller_join_date', 'seller_loc_coarse',\n",
    "           'seller_join_ipv4', 'seller_list_ipv4',\n",
    "           'created_datetime', 'modified_datetime',\n",
    "           'sent_datetime',\n",
    "           'category', 'customer']\n",
    "\n",
    "\n",
    "# Create a dataframe to store results\n",
    "# df = pd.DataFrame(columns=columns)\n",
    "\n",
    "# For each listing, extract information\n",
    "# Anc write it to e csv file\n",
    "with open(path, 'w+') as csvfile:\n",
    "    writer = csv.DictWriter(csvfile, fieldnames=columns)\n",
    "    writer.writeheader()\n",
    "    start = time.time()\n",
    "    for idx, item in enumerate(cursor):\n",
    "        # Extract the data from the item\n",
    "        # print(item)\n",
    "        # import pdb; pdb.set_trace()\n",
    "        data = item_to_dict(item)\n",
    "        # Write to the csv file\n",
    "        writer.writerow(data)\n",
    "        # Add listing to dataframe\n",
    "        # df = df.append(data, ignore_index=True)\n",
    "        # Print every 1000 items\n",
    "        if (idx % 1000) == 0:\n",
    "            end = time.time()\n",
    "            print(idx, end - start)\n",
    "            start = time.time()\n",
    "\n",
    "# Save the data to the csv file\n",
    "# df.to_csv(path, columns=columns, encoding='utf-8')"
   ]
  },
  {
   "cell_type": "code",
   "execution_count": 24,
   "metadata": {},
   "outputs": [
    {
     "data": {
      "text/plain": [
       "{'_id': ObjectId('5cf7d0885c98c110a1a9b724'),\n",
       " 'category': 'LEGIT',\n",
       " 'created_datetime': datetime.datetime(2019, 6, 5, 14, 24, 8, 806000),\n",
       " 'customer': '11street',\n",
       " 'modified_datetime': datetime.datetime(2019, 6, 5, 14, 24, 11, 83000),\n",
       " 'prod_id': '68950008',\n",
       " 'prod_name_txt': 'Women Plus Size Korean Fashion Plaid Sleeveless Woolen Vest Dress',\n",
       " 'prod_price': 66.0,\n",
       " 'prod_price_currency': 'MYR',\n",
       " 'prod_ship_loc': 'MY',\n",
       " 'prod_tags_txt': 'Women Clothing,Dresses,Mini',\n",
       " 'seller_email': 'nonoplussize@hotmail.com',\n",
       " 'seller_id': '55985302',\n",
       " 'seller_join_ipv4': '147.158.152.194',\n",
       " 'seller_list_ipv4': '220.158.201.20',\n",
       " 'seller_loc_coarse': 'MY',\n",
       " 'sent_datetime': datetime.datetime(2019, 6, 5, 14, 24, 8, 806000),\n",
       " 'tag': 'Mini'}"
      ]
     },
     "execution_count": 24,
     "metadata": {},
     "output_type": "execute_result"
    }
   ],
   "source": [
    "data"
   ]
  },
  {
   "cell_type": "code",
   "execution_count": null,
   "metadata": {},
   "outputs": [],
   "source": []
  },
  {
   "cell_type": "code",
   "execution_count": null,
   "metadata": {},
   "outputs": [],
   "source": []
  }
 ],
 "metadata": {
  "kernelspec": {
   "display_name": "Python 3",
   "language": "python",
   "name": "python3"
  },
  "language_info": {
   "codemirror_mode": {
    "name": "ipython",
    "version": 3
   },
   "file_extension": ".py",
   "mimetype": "text/x-python",
   "name": "python",
   "nbconvert_exporter": "python",
   "pygments_lexer": "ipython3",
   "version": "3.5.2"
  }
 },
 "nbformat": 4,
 "nbformat_minor": 2
}
